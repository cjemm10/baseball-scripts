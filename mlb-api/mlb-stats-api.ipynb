{
 "cells": [
  {
   "cell_type": "code",
   "execution_count": 1,
   "id": "0f60ba57",
   "metadata": {},
   "outputs": [],
   "source": [
    "import statsapi as mlb"
   ]
  },
  {
   "cell_type": "markdown",
   "id": "14585cdf",
   "metadata": {},
   "source": [
    "### Easy to Access Team IDs"
   ]
  },
  {
   "cell_type": "code",
   "execution_count": 2,
   "id": "488c4f1b",
   "metadata": {},
   "outputs": [],
   "source": [
    "teams = ['Angels', 'Orioles', 'Red Sox', 'White Sox', 'Guardians', 'Tigers', 'Royals', 'Twins', 'Yankees', 'Athletics', \\\n",
    "         'Mariners', 'Rays', 'Rangers', 'Blue Jays', 'Diamondbacks', 'Braves', 'Cubs', 'Reds', 'Rockies', 'Marlins', \\\n",
    "         'Astros', 'Dodgers', 'Brewers', 'Nationals', 'Mets', 'Phillies', 'Pirates', 'Cardinals', 'Padres', 'Giants']\n",
    "\n",
    "team_index_lookup = {}\n",
    "\n",
    "for team in teams:\n",
    "    team_index_lookup[team] = mlb.lookup_team(team)[0]['id']"
   ]
  },
  {
   "cell_type": "code",
   "execution_count": 3,
   "id": "2af23540",
   "metadata": {},
   "outputs": [
    {
     "data": {
      "text/plain": [
       "[{'game_id': 661044,\n",
       "  'game_datetime': '2022-08-19T23:05:00Z',\n",
       "  'game_date': '2022-08-19',\n",
       "  'game_type': 'R',\n",
       "  'status': 'Pre-Game',\n",
       "  'away_name': 'Boston Red Sox',\n",
       "  'home_name': 'Baltimore Orioles',\n",
       "  'away_id': 111,\n",
       "  'home_id': 110,\n",
       "  'doubleheader': 'N',\n",
       "  'game_num': 1,\n",
       "  'home_probable_pitcher': 'Jordan Lyles',\n",
       "  'away_probable_pitcher': 'Kutter Crawford',\n",
       "  'home_pitcher_note': '',\n",
       "  'away_pitcher_note': '',\n",
       "  'away_score': '0',\n",
       "  'home_score': '0',\n",
       "  'current_inning': '',\n",
       "  'inning_state': '',\n",
       "  'venue_id': 2,\n",
       "  'venue_name': 'Oriole Park at Camden Yards',\n",
       "  'summary': '2022-08-19 - Boston Red Sox @ Baltimore Orioles (Pre-Game)'},\n",
       " {'game_id': 661043,\n",
       "  'game_datetime': '2022-08-20T20:05:00Z',\n",
       "  'game_date': '2022-08-20',\n",
       "  'game_type': 'R',\n",
       "  'status': 'Scheduled',\n",
       "  'away_name': 'Boston Red Sox',\n",
       "  'home_name': 'Baltimore Orioles',\n",
       "  'away_id': 111,\n",
       "  'home_id': 110,\n",
       "  'doubleheader': 'N',\n",
       "  'game_num': 1,\n",
       "  'home_probable_pitcher': 'Kyle Bradish',\n",
       "  'away_probable_pitcher': 'Michael Wacha',\n",
       "  'home_pitcher_note': '',\n",
       "  'away_pitcher_note': '',\n",
       "  'away_score': '0',\n",
       "  'home_score': '0',\n",
       "  'current_inning': '',\n",
       "  'inning_state': '',\n",
       "  'venue_id': 2,\n",
       "  'venue_name': 'Oriole Park at Camden Yards',\n",
       "  'summary': '2022-08-20 - Boston Red Sox @ Baltimore Orioles (Scheduled)'},\n",
       " {'game_id': 661051,\n",
       "  'game_datetime': '2022-08-21T23:10:00Z',\n",
       "  'game_date': '2022-08-21',\n",
       "  'game_type': 'R',\n",
       "  'status': 'Scheduled',\n",
       "  'away_name': 'Boston Red Sox',\n",
       "  'home_name': 'Baltimore Orioles',\n",
       "  'away_id': 111,\n",
       "  'home_id': 110,\n",
       "  'doubleheader': 'N',\n",
       "  'game_num': 1,\n",
       "  'home_probable_pitcher': 'Dean Kremer',\n",
       "  'away_probable_pitcher': 'Nick Pivetta',\n",
       "  'home_pitcher_note': '',\n",
       "  'away_pitcher_note': '',\n",
       "  'away_score': '0',\n",
       "  'home_score': '0',\n",
       "  'current_inning': '',\n",
       "  'inning_state': '',\n",
       "  'venue_id': 2735,\n",
       "  'venue_name': 'Muncy Bank Ballpark',\n",
       "  'summary': '2022-08-21 - Boston Red Sox @ Baltimore Orioles (Scheduled)'}]"
      ]
     },
     "execution_count": 3,
     "metadata": {},
     "output_type": "execute_result"
    }
   ],
   "source": [
    "bal_schedule = mlb.schedule(start_date='08/19/2022',end_date='08/21/2022', team = team_index_lookup['Orioles'])\n",
    "bal_schedule"
   ]
  },
  {
   "cell_type": "code",
   "execution_count": 38,
   "id": "5a8a8046",
   "metadata": {},
   "outputs": [
    {
     "name": "stdout",
     "output_type": "stream",
     "text": [
      "American League East\n",
      "Rank Team                   W   L   GB  (E#) WC Rank WC GB (E#)\n",
      " 1   New York Yankees      73  46   -    -      -      -    -  \n",
      " 2   Tampa Bay Rays        63  54  9.0   36     2      -    -  \n",
      " 3   Toronto Blue Jays     63  54  9.0   36     3      -    -  \n",
      " 4   Baltimore Orioles     61  57  11.5  33     5     2.5   43 \n",
      " 5   Boston Red Sox        59  60  14.0  30     7     5.0   40 \n",
      "\n",
      "American League Central\n",
      "Rank Team                   W   L   GB  (E#) WC Rank WC GB (E#)\n",
      " 1   Cleveland Guardians   63  55   -    -      -      -    -  \n",
      " 2   Minnesota Twins       61  55  1.0   45     4     1.5   45 \n",
      " 3   Chicago White Sox     61  58  2.5   42     6     3.0   42 \n",
      " 4   Kansas City Royals    48  72  16.0  28    10    16.5   28 \n",
      " 5   Detroit Tigers        45  75  19.0  25    11    19.5   25 \n",
      "\n",
      "American League West\n",
      "Rank Team                   W   L   GB  (E#) WC Rank WC GB (E#)\n",
      " 1   Houston Astros        77  43   -    -      -      -    -  \n",
      " 2   Seattle Mariners      65  54  11.5  32     1    +1.0   -  \n",
      " 3   Texas Rangers         53  65  23.0  21     8    10.5   35 \n",
      " 4   Los Angeles Angels    51  67  25.0  19     9    12.5   33 \n",
      " 5   Oakland Athletics     43  76  33.5  10    12    21.0   24 \n",
      "\n",
      "National League East\n",
      "Rank Team                   W   L   GB  (E#) WC Rank WC GB (E#)\n",
      " 1   New York Mets         76  43   -    -      -      -    -  \n",
      " 2   Atlanta Braves        73  47  3.5   40     1    +7.0   -  \n",
      " 3   Philadelphia Phillies 65  52  10.0  35     2    +0.5   -  \n",
      " 4   Miami Marlins         52  66  23.5  21     7    13.0   31 \n",
      " 5   Washington Nationals  39  80  37.0  7     12    26.5   17 \n",
      "\n",
      "National League Central\n",
      "Rank Team                   W   L   GB  (E#) WC Rank WC GB (E#)\n",
      " 1   St. Louis Cardinals   66  51   -    -      -      -    -  \n",
      " 2   Milwaukee Brewers     63  54  3.0   43     4     1.5   43 \n",
      " 3   Chicago Cubs          50  67  16.0  30     8    14.5   30 \n",
      " 4   Cincinnati Reds       46  70  19.5  27    10    18.0   27 \n",
      " 5   Pittsburgh Pirates    46  72  20.5  25    11    19.0   25 \n",
      "\n",
      "National League West\n",
      "Rank Team                   W   L   GB  (E#) WC Rank WC GB (E#)\n",
      " 1   Los Angeles Dodgers   81  36   -    -      -      -    -  \n",
      " 2   San Diego Padres      66  54  16.5  28     3      -    -  \n",
      " 3   San Francisco Giants  59  59  22.5  23     5     6.0   38 \n",
      " 4   Arizona Diamondbacks  55  63  26.5  19     6    10.0   34 \n",
      " 5   Colorado Rockies      51  69  31.5  13     9    15.0   28 \n",
      "\n",
      "\n"
     ]
    }
   ],
   "source": [
    "print(mlb.standings())"
   ]
  },
  {
   "cell_type": "code",
   "execution_count": null,
   "id": "f3e9873a",
   "metadata": {},
   "outputs": [],
   "source": []
  }
 ],
 "metadata": {
  "kernelspec": {
   "display_name": "Python 3 (ipykernel)",
   "language": "python",
   "name": "python3"
  },
  "language_info": {
   "codemirror_mode": {
    "name": "ipython",
    "version": 3
   },
   "file_extension": ".py",
   "mimetype": "text/x-python",
   "name": "python",
   "nbconvert_exporter": "python",
   "pygments_lexer": "ipython3",
   "version": "3.9.13"
  }
 },
 "nbformat": 4,
 "nbformat_minor": 5
}
