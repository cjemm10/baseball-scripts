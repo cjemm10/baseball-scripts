{
 "cells": [
  {
   "cell_type": "code",
   "execution_count": 88,
   "id": "0f60ba57",
   "metadata": {},
   "outputs": [],
   "source": [
    "import sqlite3\n",
    "import pandas as pd\n",
    "import json\n",
    "from urllib.request import urlopen\n",
    "import numpy as np\n",
    "from datetime import datetime"
   ]
  },
  {
   "cell_type": "markdown",
   "id": "0c87ad7a",
   "metadata": {},
   "source": [
    "## Returns URL for Games Between Two Dates"
   ]
  },
  {
   "cell_type": "code",
   "execution_count": 89,
   "id": "5a8a8046",
   "metadata": {},
   "outputs": [],
   "source": [
    "# Function returns the JSON for the schedule of all games between startDate to endDate\n",
    "# Dates must be formatted like \"YYYY-MM-DD\"\n",
    "def getSchedule (startDate, endDate):\n",
    "    schedule = \"https://statsapi.mlb.com/api/v1/schedule?sportId=1&startDate=\" + startDate + \"&endDate=\" + endDate\n",
    "    return schedule"
   ]
  },
  {
   "cell_type": "markdown",
   "id": "5e73e3ff",
   "metadata": {},
   "source": [
    "## Returns List of GamePks Associated to Games in Span of Time"
   ]
  },
  {
   "cell_type": "code",
   "execution_count": 90,
   "id": "f3e9873a",
   "metadata": {},
   "outputs": [],
   "source": [
    "# Function returns a list of gamePks (Game IDs) for all games between startDate to endDate\n",
    "# Dates must be formatted like \"YYYY-MM-DD\"\n",
    "def getGamePks (schedule):\n",
    "    request = urlopen(schedule)\n",
    "    data_json = json.loads(request.read())\n",
    "\n",
    "    schedule_by_date = data_json['dates']\n",
    "\n",
    "    games = []\n",
    "    for date in range(0, len(schedule_by_date)):\n",
    "        games_by_date = schedule_by_date[date]['games']\n",
    "        for game in range(0, len(games_by_date)):\n",
    "            games.append(games_by_date[game]['gamePk'])\n",
    "    return games"
   ]
  },
  {
   "cell_type": "markdown",
   "id": "d4a20f19",
   "metadata": {},
   "source": [
    "## Scrapes the Pitch by Pitch Data for Given Game and Converts to Dataframe"
   ]
  },
  {
   "cell_type": "code",
   "execution_count": 91,
   "id": "9cf15ce4",
   "metadata": {},
   "outputs": [],
   "source": [
    "def getGame(gamePk):\n",
    "    game = \"https://statsapi.mlb.com/api/v1.1/game/\" + str(gamePk) + \"/feed/live\"\n",
    "    request = urlopen(game)\n",
    "    data_json = json.loads(request.read())\n",
    "\n",
    "    at_bats = data_json['liveData']['plays']['allPlays']\n",
    "\n",
    "    # Game Data\n",
    "    game_pack = []\n",
    "    date = []\n",
    "    pitcher_team = []\n",
    "    batter_team = []\n",
    "\n",
    "    # At Bat Data\n",
    "    batter_id = []\n",
    "    batter_name = []\n",
    "    batter_handedness = []\n",
    "    pitcher_id = []\n",
    "    pitcher_name = []\n",
    "    pitch_handedness = []\n",
    "    event = []\n",
    "    rbi = []\n",
    "    ab_index = []\n",
    "\n",
    "    # Batted ball data\n",
    "    exit_velo = []\n",
    "    launch_angle = []\n",
    "    total_distance = []\n",
    "\n",
    "    # Pitch Data\n",
    "    in_play = []\n",
    "    is_strike = []\n",
    "    is_ball = []\n",
    "    pitch_type = []\n",
    "    pitch_velo = []\n",
    "    spin_rate = []\n",
    "    pitch_location_x = []\n",
    "    pitch_location_y = []\n",
    "\n",
    "    # Inning Data\n",
    "    balls = []\n",
    "    strikes = []\n",
    "    outs = []\n",
    "    home_score = []\n",
    "    away_score = []\n",
    "    inning = []\n",
    "    half_inning = []\n",
    "\n",
    "    for i in range(0, len(at_bats)):\n",
    "        ab = at_bats[i]\n",
    "        for pitch in range(0, len(ab['playEvents'])):\n",
    "            if (ab['playEvents'][pitch]['isPitch'] == True):\n",
    "                if (\"Automatic Ball\" not in ab['playEvents'][pitch]['details']['description']):\n",
    "                    # GamePk as a primary key\n",
    "                    game_pack.append(gamePk)\n",
    "                    date.append(data_json['gameData']['datetime']['officialDate'])\n",
    "                    \n",
    "                    if (ab['about']['halfInning'] == 'top'):\n",
    "                        pitcher_team.append(data_json['gameData']['teams']['home']['name'])\n",
    "                        batter_team.append(data_json['gameData']['teams']['away']['name'])\n",
    "                    else:\n",
    "                        pitcher_team.append(data_json['gameData']['teams']['away']['name'])\n",
    "                        batter_team.append(data_json['gameData']['teams']['home']['name'])\n",
    "                    \n",
    "                    # At Bat Data\n",
    "                    batter_id.append(ab['matchup']['batter']['id'])\n",
    "                    batter_name.append(ab['matchup']['batter']['fullName'])\n",
    "                    batter_handedness.append(ab['matchup']['batSide']['code'])\n",
    "                    pitcher_id.append(ab['matchup']['pitcher']['id'])\n",
    "                    pitcher_name.append(ab['matchup']['pitcher']['fullName'])\n",
    "                    pitch_handedness.append(ab['matchup']['pitchHand']['code'])\n",
    "                    event.append(ab['playEvents'][pitch]['details']['description'])\n",
    "                    rbi.append(ab['result']['rbi'])\n",
    "                    ab_index.append(i + 1)\n",
    "\n",
    "                    # Batted Ball Data\n",
    "                    if (ab['playEvents'][pitch]['details']['isInPlay'] == True):\n",
    "                        # print(str(gamePk) + \": \" + ab['result']['description'])\n",
    "                        if (\"launchSpeed\" in ab['playEvents'][pitch]['hitData']):\n",
    "                            exit_velo.append(ab['playEvents'][pitch]['hitData']['launchSpeed'])\n",
    "                        else:\n",
    "                            exit_velo.append(np.nan)\n",
    "\n",
    "                        if (\"launchAngle\" in ab['playEvents'][pitch]['hitData']):\n",
    "                            launch_angle.append(ab['playEvents'][pitch]['hitData']['launchAngle'])\n",
    "                        else:\n",
    "                            launch_angle.append(np.nan)\n",
    "\n",
    "                        if (\"totalDistance\" in ab['playEvents'][pitch]['hitData']):\n",
    "                            total_distance.append(ab['playEvents'][pitch]['hitData']['totalDistance'])\n",
    "                        else:\n",
    "                            total_distance.append(np.nan)\n",
    "\n",
    "\n",
    "                    else:\n",
    "                        exit_velo.append(np.nan)\n",
    "                        launch_angle.append(np.nan)\n",
    "                        total_distance.append(np.nan)\n",
    "\n",
    "                    # Pitch Data\n",
    "                    in_play.append(ab['playEvents'][pitch]['details']['isInPlay'])\n",
    "                    is_strike.append(ab['playEvents'][pitch]['details']['isStrike'])\n",
    "                    is_ball.append(ab['playEvents'][pitch]['details']['isBall'])\n",
    "\n",
    "                    if (\"type\" in ab['playEvents'][pitch]['details']):\n",
    "                        pitch_type.append(ab['playEvents'][pitch]['details']['type']['description'])\n",
    "                    else:\n",
    "                        pitch_type.append(np.nan)\n",
    "\n",
    "                    if (\"startSpeed\" in ab['playEvents'][pitch]['pitchData']):\n",
    "                        pitch_velo.append(ab['playEvents'][pitch]['pitchData']['startSpeed'])\n",
    "                    else:\n",
    "                        pitch_velo.append(np.nan)\n",
    "\n",
    "                    if (\"spinRate\" in ab['playEvents'][pitch]['pitchData']['breaks']):\n",
    "                        spin_rate.append(ab['playEvents'][pitch]['pitchData']['breaks']['spinRate'])\n",
    "                    else:\n",
    "                        spin_rate.append(np.nan)\n",
    "\n",
    "                    if (\"pX\" in ab['playEvents'][pitch]['pitchData']['coordinates']):\n",
    "                        pitch_location_x.append(ab['playEvents'][pitch]['pitchData']['coordinates']['pX'])\n",
    "                    else:\n",
    "                        pitch_location_x.append(np.nan)\n",
    "\n",
    "                    if (\"pZ\" in ab['playEvents'][pitch]['pitchData']['coordinates']):\n",
    "                        pitch_location_y.append(ab['playEvents'][pitch]['pitchData']['coordinates']['pZ'])\n",
    "                    else:\n",
    "                        pitch_location_y.append(np.nan)\n",
    "\n",
    "                    # Inning Data\n",
    "                    home_score.append(ab['result']['homeScore'])\n",
    "                    away_score.append(ab['result']['awayScore'])\n",
    "                    balls.append(ab['playEvents'][pitch]['count']['balls'])\n",
    "                    strikes.append(ab['playEvents'][pitch]['count']['strikes'])\n",
    "                    outs.append(ab['playEvents'][pitch]['count']['outs'])\n",
    "                    inning.append(ab['about']['inning'])\n",
    "                    half_inning.append(ab['about']['halfInning'])\n",
    "\n",
    "    data = {\n",
    "        # Overall Game Data\n",
    "        'game_pack': game_pack,\n",
    "        'date' : date,\n",
    "        'pitcher_team' : pitcher_team,\n",
    "        'batter_team' : batter_team,\n",
    "        \n",
    "        # At Bat Data\n",
    "        'ab_index': ab_index,\n",
    "        'batter_id': batter_id,\n",
    "        'batter_name': batter_name,\n",
    "        'bats': batter_handedness,\n",
    "        'pitcher_id': pitcher_id,\n",
    "        'pitcher_name': pitcher_name,\n",
    "        'throws': pitch_handedness,\n",
    "        'event': event,\n",
    "        'rbi': rbi,\n",
    "        \n",
    "        # Batted Ball Data\n",
    "        'exit_velo': exit_velo,\n",
    "        'launch_angle': launch_angle,\n",
    "        'total_distance': total_distance,\n",
    "\n",
    "        # Pitch Data\n",
    "        'in_play': in_play,\n",
    "        'is_strike': is_strike,\n",
    "        'is_ball': is_ball,\n",
    "        'pitch_type': pitch_type,\n",
    "        'pitch_velo': pitch_velo,\n",
    "        'spin_rate': spin_rate,\n",
    "        'pitch_location_x': pitch_location_x,\n",
    "        'pitch_location_y': pitch_location_y,\n",
    "\n",
    "        # Inning Data\n",
    "        'home_score': home_score,\n",
    "        'away_score': away_score,\n",
    "        'balls': balls,\n",
    "        'strikes': strikes,\n",
    "        'outs': outs,\n",
    "        'inning': inning,\n",
    "        'half_inning': half_inning\n",
    "    }\n",
    "\n",
    "    game = pd.DataFrame(data)\n",
    "    return game\n"
   ]
  },
  {
   "cell_type": "markdown",
   "id": "c530afc5",
   "metadata": {
    "tags": []
   },
   "source": [
    "## Perform API Scrape on All Pitches During 2021 and 2022 Seasons"
   ]
  },
  {
   "cell_type": "code",
   "execution_count": null,
   "id": "93d286d7",
   "metadata": {},
   "outputs": [],
   "source": [
    "schedule_2021 = getSchedule('2021-04-01', '2021-10-03')\n",
    "schedule_2022 = getSchedule('2022-04-07', '2022-10-05')\n",
    "\n",
    "gamePks_2021 = getGamePks(schedule_2021)\n",
    "gamePks_2022 = getGamePks(schedule_2022)\n",
    "\n",
    "# Scrape all pitches for 2021 season\n",
    "count = 0\n",
    "for game in gamePks_2021:\n",
    "    if count == 0:\n",
    "        df_2021 = getGame(game)\n",
    "        count = 1\n",
    "    else:\n",
    "        df_2021 = pd.concat([df_2021, getGame(game)])\n",
    "\n",
    "# Scrape all pitches for 2022 season\n",
    "count = 0\n",
    "for game in gamePks_2022:\n",
    "    if count == 0:\n",
    "        df_2022 = getGame(game)\n",
    "        count = 1\n",
    "    else:\n",
    "        df_2022 = pd.concat([df_2022, getGame(game)])      \n",
    "        \n",
    "\n",
    "df = pd.concat([df_2021, df_2022])\n",
    "df.to_csv(\"gameData.csv\", index=False)"
   ]
  },
  {
   "cell_type": "markdown",
   "id": "3797f8ad-50ee-478b-905a-d75352f2213e",
   "metadata": {
    "tags": []
   },
   "source": [
    "## Perform API Scrape of Player Info"
   ]
  },
  {
   "cell_type": "code",
   "execution_count": 93,
   "id": "a4968b59",
   "metadata": {},
   "outputs": [],
   "source": [
    "def getPlayerInfo(gamePk):\n",
    "    game = \"https://statsapi.mlb.com/api/v1/people?personIds=\" + str(gamePk)\n",
    "    request = urlopen(game)\n",
    "    data_json = json.loads(request.read())[\"people\"]\n",
    "    df = pd.json_normalize(data_json)\n",
    "    \n",
    "    return df[[\"id\", \"fullName\", \"birthDate\"]]"
   ]
  },
  {
   "cell_type": "code",
   "execution_count": 94,
   "id": "fb4b2993-3aa4-487e-b1d7-de3e648232e2",
   "metadata": {},
   "outputs": [],
   "source": [
    "df = pd.read_csv(\"gameData.csv\")\n",
    "\n",
    "# Update the batterInfo dataframe using all batters in the dataframe\n",
    "count=0\n",
    "for i in df[\"batter_id\"].unique():\n",
    "    if count == 0:\n",
    "        batter_birthDates = getPlayerInfo(int(i))\n",
    "        count += 1\n",
    "    else:\n",
    "        batter_birthDates = pd.concat([batter_birthDates,getPlayerInfo(int(i))])\n",
    "\n",
    "batter_birthDates = batter_birthDates.set_index('id')\n",
    "\n",
    "# Update the pitcherInfo dataframe using all pitchers in the dataframe\n",
    "count=0\n",
    "for i in df[\"pitcher_id\"].unique():\n",
    "    if count == 0:\n",
    "        pitcher_birthDates = getPlayerInfo(int(i))\n",
    "        count += 1\n",
    "    else:\n",
    "        pitcher_birthDates = pd.concat([pitcher_birthDates,getPlayerInfo(int(i))])\n",
    "        \n",
    "pitcher_birthDates = pitcher_birthDates.set_index('id')\n",
    "\n",
    "# Save player info dataframes as CSV files\n",
    "batter_birthDates.to_csv(\"batter_birthDates.csv\", index=False)\n",
    "pitcher_birthDates.to_csv(\"pitcher_birthDates.csv\", index=False)"
   ]
  },
  {
   "cell_type": "markdown",
   "id": "f60849f5-85d0-47d7-9da3-6ad492c71f90",
   "metadata": {
    "tags": []
   },
   "source": [
    "## Only Run This Section To the Dataframes With the Most Current Data"
   ]
  },
  {
   "cell_type": "code",
   "execution_count": null,
   "id": "b4abd2e8-7009-4fc3-90a5-77f8724938c4",
   "metadata": {},
   "outputs": [],
   "source": [
    "# Read old dataframe\n",
    "gameData = pd.read_csv(\"gameData.csv\")\n",
    "\n",
    "# Get latest date in the data frame\n",
    "startDate = datetime.strftime(datetime.strptime(max(gameData['date']), '%Y-%m-%d') + pd.DateOffset(1), '%Y-%m-%d')\n",
    "\n",
    "# Get today's date (YYYY-MM-DD)\n",
    "today = datetime.today().strftime('%Y-%m-%d')\n",
    "\n",
    "# Get gamePks for all games played today\n",
    "games = getGamePks(getSchedule(startDate, today))\n",
    "\n",
    "# Iterate through gamePks and add each pitch to a new dataframe\n",
    "count = 0\n",
    "for game in games:\n",
    "    if count == 0:\n",
    "        df_today = getGame(game)\n",
    "        count = 1\n",
    "    else:\n",
    "        df_today = pd.concat([df_today, getGame(game)])\n",
    "\n",
    "# Concatenate the new data from today to the bottom of the old dataframe\n",
    "gameData = pd.concat([gameData, df_today])\n",
    "\n",
    "# Update the batterInfo dataframe using all batters through today's games\n",
    "count=0\n",
    "for i in gameData[\"batter_id\"].unique():\n",
    "    if count == 0:\n",
    "        batter_birthDates = getPlayerInfo(int(i))\n",
    "        count += 1\n",
    "    else:\n",
    "        batter_birthDates = pd.concat([batter_birthDates, getPlayerInfo(int(i))])\n",
    "\n",
    "batter_birthDates = batter_birthDates.set_index('id')\n",
    "\n",
    "# Update the pitcherInfo dataframe using all pitchers through today's games\n",
    "count=0\n",
    "for i in gameData[\"pitcher_id\"].unique():\n",
    "    if count == 0:\n",
    "        pitcher_birthDates = getPlayerInfo(int(i))\n",
    "        count += 1\n",
    "    else:\n",
    "        pitcher_birthDates = pd.concat([pitcher_birthDates, getPlayerInfo(int(i))])\n",
    "        \n",
    "pitcher_birthDates = pitcher_birthDates.set_index('id')\n",
    "\n",
    "\n",
    "# Update CSV Files\n",
    "gameData.to_csv(\"gameData.csv\", index=False)\n",
    "batter_birthDates.to_csv(\"batter_birthDates.csv\", index=False)\n",
    "pitcher_birthDates.to_csv(\"pitcher_birthDates.csv\", index=False)"
   ]
  },
  {
   "cell_type": "markdown",
   "id": "f22973d5-31d4-40ee-826b-399f7a10e7f8",
   "metadata": {},
   "source": [
    "## Upload Game Data Dataframe to Google Cloud"
   ]
  },
  {
   "cell_type": "code",
   "execution_count": 96,
   "id": "9139b6fa-4c4d-417a-b862-2f390491330f",
   "metadata": {},
   "outputs": [
    {
     "data": {
      "text/plain": [
       "LoadJob<project=baseball-database-365316, location=us-east4, id=dad895a5-7227-4a88-99b3-b09dc19f6886>"
      ]
     },
     "execution_count": 96,
     "metadata": {},
     "output_type": "execute_result"
    }
   ],
   "source": [
    "import pandas as pd\n",
    "from google.cloud import bigquery\n",
    "import os\n",
    "\n",
    "# Tell os where to look for the Google Cloud credentials\n",
    "os.environ[\"GOOGLE_APPLICATION_CREDENTIALS\"]=\"service-account-key/baseball-database-365316-a1d891f3a3c2.json\"\n",
    "\n",
    "# Read the CSV file\n",
    "gameData = pd.read_csv(\"gameData.csv\")\n",
    "\n",
    "client = bigquery.Client(project='baseball-database-365316')\n",
    "\n",
    "table_id = 'baseball.gameData'\n",
    "\n",
    "job_config = bigquery.LoadJobConfig(\n",
    "    # BigQuery appends loaded rows to an existing table by default,\n",
    "    # but with WRITE_TRUNCATE it replaces the table with the loaded data.\n",
    "    write_disposition=\"WRITE_TRUNCATE\",\n",
    ")\n",
    "\n",
    "\n",
    "# Make an API request\n",
    "job = client.load_table_from_dataframe(\n",
    "    gameData, table_id, job_config=job_config\n",
    ")\n",
    "\n",
    "job.result()  # Wait for the job to complete."
   ]
  },
  {
   "cell_type": "markdown",
   "id": "03ef880c-b03e-4b60-aa09-0d4a31ddc2ef",
   "metadata": {},
   "source": [
    "## Upload Pitcher Info Dataframe to Google Cloud"
   ]
  },
  {
   "cell_type": "code",
   "execution_count": 97,
   "id": "861a28ac-14c2-4902-8326-63c8721a2e52",
   "metadata": {},
   "outputs": [
    {
     "data": {
      "text/plain": [
       "LoadJob<project=baseball-database-365316, location=us-east4, id=4a2d2004-9e1e-4440-808c-383871a28f16>"
      ]
     },
     "execution_count": 97,
     "metadata": {},
     "output_type": "execute_result"
    }
   ],
   "source": [
    "import pandas as pd\n",
    "from google.cloud import bigquery\n",
    "import os\n",
    "\n",
    "# Tell os where to look for the Google Cloud credentials\n",
    "os.environ[\"GOOGLE_APPLICATION_CREDENTIALS\"]=\"service-account-key/baseball-database-365316-a1d891f3a3c2.json\"\n",
    "\n",
    "# Read the CSV file\n",
    "pitcherInfo = pd.read_csv(\"pitcher_birthDates.csv\")\n",
    "\n",
    "client = bigquery.Client(project='baseball-database-365316')\n",
    "\n",
    "table_id = 'baseball.pitcherInfo'\n",
    "\n",
    "# Make an API request\n",
    "job = client.load_table_from_dataframe(\n",
    "    pitcherInfo, table_id\n",
    ")\n",
    "\n",
    "job.result()  # Wait for the job to complete."
   ]
  },
  {
   "cell_type": "markdown",
   "id": "4ca39f4b-0b1c-4475-8148-4af929991dc6",
   "metadata": {},
   "source": [
    "## Upload Batter Info Dataframe to Google Cloud"
   ]
  },
  {
   "cell_type": "code",
   "execution_count": 98,
   "id": "e745c201-2ef3-481d-b5f0-a831c7c1166b",
   "metadata": {},
   "outputs": [
    {
     "data": {
      "text/plain": [
       "LoadJob<project=baseball-database-365316, location=us-east4, id=7252c628-89ff-4090-b910-0c252ebd18a5>"
      ]
     },
     "execution_count": 98,
     "metadata": {},
     "output_type": "execute_result"
    }
   ],
   "source": [
    "import pandas as pd\n",
    "from google.cloud import bigquery\n",
    "import os\n",
    "\n",
    "# Tell os where to look for the Google Cloud credentials\n",
    "os.environ[\"GOOGLE_APPLICATION_CREDENTIALS\"]=\"service-account-key/baseball-database-365316-a1d891f3a3c2.json\"\n",
    "\n",
    "# Read the CSV file\n",
    "batterInfo = pd.read_csv(\"batter_birthDates.csv\")\n",
    "\n",
    "client = bigquery.Client(project='baseball-database-365316')\n",
    "\n",
    "table_id = 'baseball.batterInfo'\n",
    "\n",
    "# Make an API request\n",
    "job = client.load_table_from_dataframe(\n",
    "    batterInfo, table_id\n",
    ")\n",
    "\n",
    "job.result()  # Wait for the job to complete."
   ]
  },
  {
   "cell_type": "markdown",
   "id": "083e76f7-43d8-4863-9250-b293bbe18699",
   "metadata": {},
   "source": [
    "## Directions on How to Do Your Own Query"
   ]
  },
  {
   "cell_type": "markdown",
   "id": "1a673f71-e9ab-489b-b69d-c71b263dfba0",
   "metadata": {},
   "source": [
    "&nbsp; 1) Navigate to https://console.cloud.google.com/bigquery?cloudshell=false&project=baseball-database-365316&ws=!1m0\n",
    "\n",
    "&nbsp; 2) In the editor tab, enter your query. \\\n",
    "&nbsp; &nbsp; Example Query: **SELECT  batter_name, bats, pitcher_name, throws, event, balls, strikes from baseball.gameData where batter_name = \"Adley Rutschman\" and event = \"In play, no out\" limit 10;** \\\n",
    "&nbsp; &nbsp; Please take note that the \"baseball.\" prefix to \"baseball.gameData\" is required when using Big Query.\n",
    "\n",
    "&nbsp; 3) Press **RUN**\n",
    "\n",
    "&nbsp; 4) Query result will display in a terminal below the query entry.\n",
    "\n",
    "&nbsp; 5) See the **example-queries.docx** file I sent for more example queries you can run!"
   ]
  }
 ],
 "metadata": {
  "kernelspec": {
   "display_name": "Python 3 (ipykernel)",
   "language": "python",
   "name": "python3"
  },
  "language_info": {
   "codemirror_mode": {
    "name": "ipython",
    "version": 3
   },
   "file_extension": ".py",
   "mimetype": "text/x-python",
   "name": "python",
   "nbconvert_exporter": "python",
   "pygments_lexer": "ipython3",
   "version": "3.10.6"
  },
  "vscode": {
   "interpreter": {
    "hash": "b0fa6594d8f4cbf19f97940f81e996739fb7646882a419484c72d19e05852a7e"
   }
  }
 },
 "nbformat": 4,
 "nbformat_minor": 5
}
